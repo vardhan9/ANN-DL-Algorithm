{
 "cells": [
  {
   "cell_type": "code",
   "execution_count": 1,
   "metadata": {},
   "outputs": [],
   "source": [
    "import pandas as pd\n",
    "from sklearn.model_selection import train_test_split\n",
    "from sklearn.preprocessing import StandardScaler, LabelEncoder, OneHotEncoder\n",
    "import pickle"
   ]
  },
  {
   "cell_type": "code",
   "execution_count": 2,
   "metadata": {},
   "outputs": [],
   "source": [
    "data = pd.read_csv('Churn_Modelling.csv')"
   ]
  },
  {
   "cell_type": "code",
   "execution_count": 3,
   "metadata": {},
   "outputs": [],
   "source": [
    "## droping unimportant columns\n",
    "data = data.drop(['RowNumber', 'CustomerId','Surname'], axis=1)"
   ]
  },
  {
   "cell_type": "code",
   "execution_count": 4,
   "metadata": {},
   "outputs": [
    {
     "data": {
      "text/plain": [
       "0       0\n",
       "1       0\n",
       "2       0\n",
       "3       0\n",
       "4       0\n",
       "       ..\n",
       "9995    1\n",
       "9996    1\n",
       "9997    0\n",
       "9998    1\n",
       "9999    0\n",
       "Name: Gender, Length: 10000, dtype: int32"
      ]
     },
     "execution_count": 4,
     "metadata": {},
     "output_type": "execute_result"
    }
   ],
   "source": [
    "# Lets encode the gender first\n",
    "label_encoder_gender = LabelEncoder()\n",
    "data['Gender']= label_encoder_gender.fit_transform(data['Gender'])\n",
    "data['Gender']"
   ]
  },
  {
   "cell_type": "code",
   "execution_count": 6,
   "metadata": {},
   "outputs": [
    {
     "data": {
      "text/html": [
       "<div>\n",
       "<style scoped>\n",
       "    .dataframe tbody tr th:only-of-type {\n",
       "        vertical-align: middle;\n",
       "    }\n",
       "\n",
       "    .dataframe tbody tr th {\n",
       "        vertical-align: top;\n",
       "    }\n",
       "\n",
       "    .dataframe thead th {\n",
       "        text-align: right;\n",
       "    }\n",
       "</style>\n",
       "<table border=\"1\" class=\"dataframe\">\n",
       "  <thead>\n",
       "    <tr style=\"text-align: right;\">\n",
       "      <th></th>\n",
       "      <th>Geography_France</th>\n",
       "      <th>Geography_Germany</th>\n",
       "      <th>Geography_Spain</th>\n",
       "    </tr>\n",
       "  </thead>\n",
       "  <tbody>\n",
       "    <tr>\n",
       "      <th>0</th>\n",
       "      <td>1.0</td>\n",
       "      <td>0.0</td>\n",
       "      <td>0.0</td>\n",
       "    </tr>\n",
       "    <tr>\n",
       "      <th>1</th>\n",
       "      <td>0.0</td>\n",
       "      <td>0.0</td>\n",
       "      <td>1.0</td>\n",
       "    </tr>\n",
       "    <tr>\n",
       "      <th>2</th>\n",
       "      <td>1.0</td>\n",
       "      <td>0.0</td>\n",
       "      <td>0.0</td>\n",
       "    </tr>\n",
       "    <tr>\n",
       "      <th>3</th>\n",
       "      <td>1.0</td>\n",
       "      <td>0.0</td>\n",
       "      <td>0.0</td>\n",
       "    </tr>\n",
       "    <tr>\n",
       "      <th>4</th>\n",
       "      <td>0.0</td>\n",
       "      <td>0.0</td>\n",
       "      <td>1.0</td>\n",
       "    </tr>\n",
       "    <tr>\n",
       "      <th>...</th>\n",
       "      <td>...</td>\n",
       "      <td>...</td>\n",
       "      <td>...</td>\n",
       "    </tr>\n",
       "    <tr>\n",
       "      <th>9995</th>\n",
       "      <td>1.0</td>\n",
       "      <td>0.0</td>\n",
       "      <td>0.0</td>\n",
       "    </tr>\n",
       "    <tr>\n",
       "      <th>9996</th>\n",
       "      <td>1.0</td>\n",
       "      <td>0.0</td>\n",
       "      <td>0.0</td>\n",
       "    </tr>\n",
       "    <tr>\n",
       "      <th>9997</th>\n",
       "      <td>1.0</td>\n",
       "      <td>0.0</td>\n",
       "      <td>0.0</td>\n",
       "    </tr>\n",
       "    <tr>\n",
       "      <th>9998</th>\n",
       "      <td>0.0</td>\n",
       "      <td>1.0</td>\n",
       "      <td>0.0</td>\n",
       "    </tr>\n",
       "    <tr>\n",
       "      <th>9999</th>\n",
       "      <td>1.0</td>\n",
       "      <td>0.0</td>\n",
       "      <td>0.0</td>\n",
       "    </tr>\n",
       "  </tbody>\n",
       "</table>\n",
       "<p>10000 rows × 3 columns</p>\n",
       "</div>"
      ],
      "text/plain": [
       "      Geography_France  Geography_Germany  Geography_Spain\n",
       "0                  1.0                0.0              0.0\n",
       "1                  0.0                0.0              1.0\n",
       "2                  1.0                0.0              0.0\n",
       "3                  1.0                0.0              0.0\n",
       "4                  0.0                0.0              1.0\n",
       "...                ...                ...              ...\n",
       "9995               1.0                0.0              0.0\n",
       "9996               1.0                0.0              0.0\n",
       "9997               1.0                0.0              0.0\n",
       "9998               0.0                1.0              0.0\n",
       "9999               1.0                0.0              0.0\n",
       "\n",
       "[10000 rows x 3 columns]"
      ]
     },
     "execution_count": 6,
     "metadata": {},
     "output_type": "execute_result"
    }
   ],
   "source": [
    "from sklearn.preprocessing import OneHotEncoder\n",
    "onehot_encoder_geo=OneHotEncoder()\n",
    "geo_encoded=onehot_encoder_geo.fit_transform(data[['Geography']]).toarray()\n",
    "geo_encoded_df=pd.DataFrame(geo_encoded,columns=onehot_encoder_geo.get_feature_names_out(['Geography']))\n",
    "geo_encoded_df"
   ]
  },
  {
   "cell_type": "code",
   "execution_count": 7,
   "metadata": {},
   "outputs": [
    {
     "data": {
      "text/html": [
       "<div>\n",
       "<style scoped>\n",
       "    .dataframe tbody tr th:only-of-type {\n",
       "        vertical-align: middle;\n",
       "    }\n",
       "\n",
       "    .dataframe tbody tr th {\n",
       "        vertical-align: top;\n",
       "    }\n",
       "\n",
       "    .dataframe thead th {\n",
       "        text-align: right;\n",
       "    }\n",
       "</style>\n",
       "<table border=\"1\" class=\"dataframe\">\n",
       "  <thead>\n",
       "    <tr style=\"text-align: right;\">\n",
       "      <th></th>\n",
       "      <th>CreditScore</th>\n",
       "      <th>Gender</th>\n",
       "      <th>Age</th>\n",
       "      <th>Tenure</th>\n",
       "      <th>Balance</th>\n",
       "      <th>NumOfProducts</th>\n",
       "      <th>HasCrCard</th>\n",
       "      <th>IsActiveMember</th>\n",
       "      <th>EstimatedSalary</th>\n",
       "      <th>Exited</th>\n",
       "      <th>Geography_France</th>\n",
       "      <th>Geography_Germany</th>\n",
       "      <th>Geography_Spain</th>\n",
       "    </tr>\n",
       "  </thead>\n",
       "  <tbody>\n",
       "    <tr>\n",
       "      <th>0</th>\n",
       "      <td>619</td>\n",
       "      <td>0</td>\n",
       "      <td>42</td>\n",
       "      <td>2</td>\n",
       "      <td>0.00</td>\n",
       "      <td>1</td>\n",
       "      <td>1</td>\n",
       "      <td>1</td>\n",
       "      <td>101348.88</td>\n",
       "      <td>1</td>\n",
       "      <td>1.0</td>\n",
       "      <td>0.0</td>\n",
       "      <td>0.0</td>\n",
       "    </tr>\n",
       "    <tr>\n",
       "      <th>1</th>\n",
       "      <td>608</td>\n",
       "      <td>0</td>\n",
       "      <td>41</td>\n",
       "      <td>1</td>\n",
       "      <td>83807.86</td>\n",
       "      <td>1</td>\n",
       "      <td>0</td>\n",
       "      <td>1</td>\n",
       "      <td>112542.58</td>\n",
       "      <td>0</td>\n",
       "      <td>0.0</td>\n",
       "      <td>0.0</td>\n",
       "      <td>1.0</td>\n",
       "    </tr>\n",
       "    <tr>\n",
       "      <th>2</th>\n",
       "      <td>502</td>\n",
       "      <td>0</td>\n",
       "      <td>42</td>\n",
       "      <td>8</td>\n",
       "      <td>159660.80</td>\n",
       "      <td>3</td>\n",
       "      <td>1</td>\n",
       "      <td>0</td>\n",
       "      <td>113931.57</td>\n",
       "      <td>1</td>\n",
       "      <td>1.0</td>\n",
       "      <td>0.0</td>\n",
       "      <td>0.0</td>\n",
       "    </tr>\n",
       "    <tr>\n",
       "      <th>3</th>\n",
       "      <td>699</td>\n",
       "      <td>0</td>\n",
       "      <td>39</td>\n",
       "      <td>1</td>\n",
       "      <td>0.00</td>\n",
       "      <td>2</td>\n",
       "      <td>0</td>\n",
       "      <td>0</td>\n",
       "      <td>93826.63</td>\n",
       "      <td>0</td>\n",
       "      <td>1.0</td>\n",
       "      <td>0.0</td>\n",
       "      <td>0.0</td>\n",
       "    </tr>\n",
       "    <tr>\n",
       "      <th>4</th>\n",
       "      <td>850</td>\n",
       "      <td>0</td>\n",
       "      <td>43</td>\n",
       "      <td>2</td>\n",
       "      <td>125510.82</td>\n",
       "      <td>1</td>\n",
       "      <td>1</td>\n",
       "      <td>1</td>\n",
       "      <td>79084.10</td>\n",
       "      <td>0</td>\n",
       "      <td>0.0</td>\n",
       "      <td>0.0</td>\n",
       "      <td>1.0</td>\n",
       "    </tr>\n",
       "  </tbody>\n",
       "</table>\n",
       "</div>"
      ],
      "text/plain": [
       "   CreditScore  Gender  ...  Geography_Germany  Geography_Spain\n",
       "0          619       0  ...                0.0              0.0\n",
       "1          608       0  ...                0.0              1.0\n",
       "2          502       0  ...                0.0              0.0\n",
       "3          699       0  ...                0.0              0.0\n",
       "4          850       0  ...                0.0              1.0\n",
       "\n",
       "[5 rows x 13 columns]"
      ]
     },
     "execution_count": 7,
     "metadata": {},
     "output_type": "execute_result"
    }
   ],
   "source": [
    "data = pd.concat([data.drop('Geography', axis=1), geo_encoded_df], axis=1)\n",
    "data.head()"
   ]
  },
  {
   "cell_type": "code",
   "execution_count": 8,
   "metadata": {},
   "outputs": [],
   "source": [
    "# Splitting data\n",
    "X= data.drop('EstimatedSalary', axis=1)\n",
    "y=data['EstimatedSalary']"
   ]
  },
  {
   "cell_type": "code",
   "execution_count": 13,
   "metadata": {},
   "outputs": [],
   "source": [
    "X_train,X_test,y_train,y_test = train_test_split(X,y,test_size=0.2,random_state=42)\n",
    "##Scale down this feature with standard scalar\n",
    "scaler=StandardScaler()\n",
    "X_train=scaler.fit_transform(X_train)\n",
    "X_test=scaler.fit_transform(X_test)"
   ]
  },
  {
   "cell_type": "code",
   "execution_count": 14,
   "metadata": {},
   "outputs": [],
   "source": [
    "## Save the encoders and scaler\n",
    "with open('reg_label_encoder_gender.pkl','wb') as file:\n",
    "    pickle.dump(label_encoder_gender,file)\n",
    "\n",
    "with open('reg_onehot_encoder_geo.pkl', 'wb') as file:\n",
    "    pickle.dump(onehot_encoder_geo,file)\n",
    "\n",
    "with open('reg_scaler.pkl','wb') as file:\n",
    "    pickle.dump(scaler,file)"
   ]
  },
  {
   "cell_type": "markdown",
   "metadata": {},
   "source": [
    "Training ANN Regression"
   ]
  },
  {
   "cell_type": "code",
   "execution_count": 15,
   "metadata": {},
   "outputs": [],
   "source": [
    "import tensorflow as tf\n",
    "from tensorflow.keras.models import Sequential\n",
    "from tensorflow.keras.layers import Dense"
   ]
  },
  {
   "cell_type": "code",
   "execution_count": 17,
   "metadata": {},
   "outputs": [
    {
     "name": "stdout",
     "output_type": "stream",
     "text": [
      "WARNING:tensorflow:From m:\\Learning_Workspace\\AI\\AI_Projects\\KrishNaikProjects\\ANN-DL-Algorithm\\venv\\Lib\\site-packages\\keras\\src\\backend.py:873: The name tf.get_default_graph is deprecated. Please use tf.compat.v1.get_default_graph instead.\n",
      "\n"
     ]
    }
   ],
   "source": [
    "model = Sequential([\n",
    "    Dense(64, activation='relu', input_shape=(X_train.shape[1],)),\n",
    "    Dense(32, activation='relu'),\n",
    "    Dense(1) # Default activation is linear activation (Regression)\n",
    "])"
   ]
  },
  {
   "cell_type": "code",
   "execution_count": 21,
   "metadata": {},
   "outputs": [
    {
     "name": "stdout",
     "output_type": "stream",
     "text": [
      "Model: \"sequential\"\n",
      "_________________________________________________________________\n",
      " Layer (type)                Output Shape              Param #   \n",
      "=================================================================\n",
      " dense (Dense)               (None, 64)                832       \n",
      "                                                                 \n",
      " dense_1 (Dense)             (None, 32)                2080      \n",
      "                                                                 \n",
      " dense_2 (Dense)             (None, 1)                 33        \n",
      "                                                                 \n"
     ]
    },
    {
     "name": "stdout",
     "output_type": "stream",
     "text": [
      "=================================================================\n",
      "Total params: 2945 (11.50 KB)\n",
      "Trainable params: 2945 (11.50 KB)\n",
      "Non-trainable params: 0 (0.00 Byte)\n",
      "_________________________________________________________________\n"
     ]
    }
   ],
   "source": [
    "model.compile(optimizer='adam', loss='mean_absolute_error', metrics='mae')\n",
    "model.summary()"
   ]
  },
  {
   "cell_type": "code",
   "execution_count": 22,
   "metadata": {},
   "outputs": [],
   "source": [
    "from tensorflow.keras.callbacks import EarlyStopping, TensorBoard\n",
    "import datetime\n",
    "log_dir=\"reg_logs/fit/\" + datetime.datetime.now().strftime(\"%Y%m%d-%H%M%S\")\n",
    "tensorflow_callsback=TensorBoard(log_dir=log_dir,histogram_freq=1)"
   ]
  },
  {
   "cell_type": "code",
   "execution_count": 23,
   "metadata": {},
   "outputs": [],
   "source": [
    "## Set early stopping - if model stops learning apply early stopping. If loss is not decreasing after certain epoch ---stop further training\n",
    "early_stopping_callback=EarlyStopping(monitor='val_loss', patience=15, restore_best_weights=True)"
   ]
  },
  {
   "cell_type": "code",
   "execution_count": 24,
   "metadata": {},
   "outputs": [
    {
     "name": "stdout",
     "output_type": "stream",
     "text": [
      "Epoch 1/100\n",
      "WARNING:tensorflow:From m:\\Learning_Workspace\\AI\\AI_Projects\\KrishNaikProjects\\ANN-DL-Algorithm\\venv\\Lib\\site-packages\\keras\\src\\utils\\tf_utils.py:492: The name tf.ragged.RaggedTensorValue is deprecated. Please use tf.compat.v1.ragged.RaggedTensorValue instead.\n",
      "\n",
      "WARNING:tensorflow:From m:\\Learning_Workspace\\AI\\AI_Projects\\KrishNaikProjects\\ANN-DL-Algorithm\\venv\\Lib\\site-packages\\keras\\src\\engine\\base_layer_utils.py:384: The name tf.executing_eagerly_outside_functions is deprecated. Please use tf.compat.v1.executing_eagerly_outside_functions instead.\n",
      "\n",
      "250/250 [==============================] - 13s 21ms/step - loss: 100363.8203 - mae: 100363.8203 - val_loss: 98467.2812 - val_mae: 98467.2812\n",
      "Epoch 2/100\n",
      "250/250 [==============================] - 3s 14ms/step - loss: 99464.0000 - mae: 99464.0000 - val_loss: 96662.4688 - val_mae: 96662.4688\n",
      "Epoch 3/100\n",
      "250/250 [==============================] - 3s 14ms/step - loss: 96341.2500 - mae: 96341.2500 - val_loss: 92093.5156 - val_mae: 92093.5156\n",
      "Epoch 4/100\n",
      "250/250 [==============================] - 3s 13ms/step - loss: 90277.7734 - mae: 90277.7734 - val_loss: 84652.1719 - val_mae: 84652.1719\n",
      "Epoch 5/100\n",
      "250/250 [==============================] - 4s 15ms/step - loss: 81629.9219 - mae: 81629.9219 - val_loss: 75258.8906 - val_mae: 75258.8906\n",
      "Epoch 6/100\n",
      "250/250 [==============================] - 4s 14ms/step - loss: 71864.9609 - mae: 71864.9609 - val_loss: 66186.4219 - val_mae: 66186.4219\n",
      "Epoch 7/100\n",
      "250/250 [==============================] - 4s 14ms/step - loss: 62935.8828 - mae: 62935.8828 - val_loss: 58797.0625 - val_mae: 58797.0625\n",
      "Epoch 8/100\n",
      "250/250 [==============================] - 4s 15ms/step - loss: 56463.7070 - mae: 56463.7070 - val_loss: 54209.0352 - val_mae: 54209.0352\n",
      "Epoch 9/100\n",
      "250/250 [==============================] - 4s 15ms/step - loss: 52867.2344 - mae: 52867.2344 - val_loss: 52043.0977 - val_mae: 52043.0977\n",
      "Epoch 10/100\n",
      "250/250 [==============================] - 3s 14ms/step - loss: 51255.2344 - mae: 51255.2344 - val_loss: 51250.2148 - val_mae: 51250.2148\n",
      "Epoch 11/100\n",
      "250/250 [==============================] - 4s 17ms/step - loss: 50598.0625 - mae: 50598.0625 - val_loss: 50964.2344 - val_mae: 50964.2344\n",
      "Epoch 12/100\n",
      "250/250 [==============================] - 4s 16ms/step - loss: 50348.9648 - mae: 50348.9648 - val_loss: 50856.8711 - val_mae: 50856.8711\n",
      "Epoch 13/100\n",
      "250/250 [==============================] - 4s 14ms/step - loss: 50237.3281 - mae: 50237.3281 - val_loss: 50789.9453 - val_mae: 50789.9453\n",
      "Epoch 14/100\n",
      "250/250 [==============================] - 4s 14ms/step - loss: 50159.5469 - mae: 50159.5469 - val_loss: 50734.1016 - val_mae: 50734.1016\n",
      "Epoch 15/100\n",
      "250/250 [==============================] - 3s 13ms/step - loss: 50097.6289 - mae: 50097.6289 - val_loss: 50696.2148 - val_mae: 50696.2148\n",
      "Epoch 16/100\n",
      "250/250 [==============================] - 3s 13ms/step - loss: 50050.3398 - mae: 50050.3398 - val_loss: 50645.6289 - val_mae: 50645.6289\n",
      "Epoch 17/100\n",
      "250/250 [==============================] - 3s 13ms/step - loss: 50007.0078 - mae: 50007.0078 - val_loss: 50616.9102 - val_mae: 50616.9102\n",
      "Epoch 18/100\n",
      "250/250 [==============================] - 3s 13ms/step - loss: 49963.6211 - mae: 49963.6211 - val_loss: 50573.1250 - val_mae: 50573.1250\n",
      "Epoch 19/100\n",
      "250/250 [==============================] - 3s 12ms/step - loss: 49929.5898 - mae: 49929.5898 - val_loss: 50546.2148 - val_mae: 50546.2148\n",
      "Epoch 20/100\n",
      "250/250 [==============================] - 4s 15ms/step - loss: 49895.7109 - mae: 49895.7109 - val_loss: 50514.9375 - val_mae: 50514.9375\n",
      "Epoch 21/100\n",
      "250/250 [==============================] - 3s 14ms/step - loss: 49862.8438 - mae: 49862.8438 - val_loss: 50493.2969 - val_mae: 50493.2969\n",
      "Epoch 22/100\n",
      "250/250 [==============================] - 3s 13ms/step - loss: 49837.6016 - mae: 49837.6016 - val_loss: 50465.2305 - val_mae: 50465.2305\n",
      "Epoch 23/100\n",
      "250/250 [==============================] - 3s 14ms/step - loss: 49812.2656 - mae: 49812.2656 - val_loss: 50446.4688 - val_mae: 50446.4688\n",
      "Epoch 24/100\n",
      "250/250 [==============================] - 3s 14ms/step - loss: 49789.2852 - mae: 49789.2852 - val_loss: 50437.7109 - val_mae: 50437.7109\n",
      "Epoch 25/100\n",
      "250/250 [==============================] - 3s 14ms/step - loss: 49768.7305 - mae: 49768.7305 - val_loss: 50419.6875 - val_mae: 50419.6875\n",
      "Epoch 26/100\n",
      "250/250 [==============================] - 4s 14ms/step - loss: 49743.9023 - mae: 49743.9023 - val_loss: 50402.1484 - val_mae: 50402.1484\n",
      "Epoch 27/100\n",
      "250/250 [==============================] - 3s 13ms/step - loss: 49720.2305 - mae: 49720.2305 - val_loss: 50387.3398 - val_mae: 50387.3398\n",
      "Epoch 28/100\n",
      "250/250 [==============================] - 3s 13ms/step - loss: 49707.5039 - mae: 49707.5039 - val_loss: 50387.2188 - val_mae: 50387.2188\n",
      "Epoch 29/100\n",
      "250/250 [==============================] - 4s 14ms/step - loss: 49686.0703 - mae: 49686.0703 - val_loss: 50372.9023 - val_mae: 50372.9023\n",
      "Epoch 30/100\n",
      "250/250 [==============================] - 3s 14ms/step - loss: 49671.4375 - mae: 49671.4375 - val_loss: 50375.7812 - val_mae: 50375.7812\n",
      "Epoch 31/100\n",
      "250/250 [==============================] - 3s 14ms/step - loss: 49655.8320 - mae: 49655.8320 - val_loss: 50361.9570 - val_mae: 50361.9570\n",
      "Epoch 32/100\n",
      "250/250 [==============================] - 3s 14ms/step - loss: 49638.8945 - mae: 49638.8945 - val_loss: 50351.2695 - val_mae: 50351.2695\n",
      "Epoch 33/100\n",
      "250/250 [==============================] - 4s 15ms/step - loss: 49624.4375 - mae: 49624.4375 - val_loss: 50342.6172 - val_mae: 50342.6172\n",
      "Epoch 34/100\n",
      "250/250 [==============================] - 4s 15ms/step - loss: 49609.5117 - mae: 49609.5117 - val_loss: 50334.5156 - val_mae: 50334.5156\n",
      "Epoch 35/100\n",
      "250/250 [==============================] - 3s 14ms/step - loss: 49598.8711 - mae: 49598.8711 - val_loss: 50339.4414 - val_mae: 50339.4414\n",
      "Epoch 36/100\n",
      "250/250 [==============================] - 4s 14ms/step - loss: 49584.9062 - mae: 49584.9062 - val_loss: 50331.1328 - val_mae: 50331.1328\n",
      "Epoch 37/100\n",
      "250/250 [==============================] - 4s 15ms/step - loss: 49574.6602 - mae: 49574.6602 - val_loss: 50330.5781 - val_mae: 50330.5781\n",
      "Epoch 38/100\n",
      "250/250 [==============================] - 3s 14ms/step - loss: 49562.1523 - mae: 49562.1523 - val_loss: 50319.4883 - val_mae: 50319.4883\n",
      "Epoch 39/100\n",
      "250/250 [==============================] - 4s 16ms/step - loss: 49551.5078 - mae: 49551.5078 - val_loss: 50317.0352 - val_mae: 50317.0352\n",
      "Epoch 40/100\n",
      "250/250 [==============================] - 3s 13ms/step - loss: 49540.0703 - mae: 49540.0703 - val_loss: 50312.7695 - val_mae: 50312.7695\n",
      "Epoch 41/100\n",
      "250/250 [==============================] - 4s 15ms/step - loss: 49531.9609 - mae: 49531.9609 - val_loss: 50304.6914 - val_mae: 50304.6914\n",
      "Epoch 42/100\n",
      "250/250 [==============================] - 4s 14ms/step - loss: 49521.8594 - mae: 49521.8594 - val_loss: 50305.1523 - val_mae: 50305.1523\n",
      "Epoch 43/100\n",
      "250/250 [==============================] - 4s 15ms/step - loss: 49514.5938 - mae: 49514.5938 - val_loss: 50309.1445 - val_mae: 50309.1445\n",
      "Epoch 44/100\n",
      "250/250 [==============================] - 4s 15ms/step - loss: 49506.8047 - mae: 49506.8047 - val_loss: 50309.6875 - val_mae: 50309.6875\n",
      "Epoch 45/100\n",
      "250/250 [==============================] - 3s 13ms/step - loss: 49497.3008 - mae: 49497.3008 - val_loss: 50306.7070 - val_mae: 50306.7070\n",
      "Epoch 46/100\n",
      "250/250 [==============================] - 5s 21ms/step - loss: 49491.0859 - mae: 49491.0859 - val_loss: 50312.3398 - val_mae: 50312.3398\n",
      "Epoch 47/100\n",
      "250/250 [==============================] - 5s 19ms/step - loss: 49483.1172 - mae: 49483.1172 - val_loss: 50305.2109 - val_mae: 50305.2109\n",
      "Epoch 48/100\n",
      "250/250 [==============================] - 5s 20ms/step - loss: 49474.0547 - mae: 49474.0547 - val_loss: 50310.9844 - val_mae: 50310.9844\n",
      "Epoch 49/100\n",
      "250/250 [==============================] - 4s 17ms/step - loss: 49469.5234 - mae: 49469.5234 - val_loss: 50313.8555 - val_mae: 50313.8555\n",
      "Epoch 50/100\n",
      "250/250 [==============================] - 5s 19ms/step - loss: 49459.9922 - mae: 49459.9922 - val_loss: 50305.8359 - val_mae: 50305.8359\n",
      "Epoch 51/100\n",
      "250/250 [==============================] - 5s 19ms/step - loss: 49453.5625 - mae: 49453.5625 - val_loss: 50303.3828 - val_mae: 50303.3828\n",
      "Epoch 52/100\n",
      "250/250 [==============================] - 4s 17ms/step - loss: 49448.3398 - mae: 49448.3398 - val_loss: 50306.8906 - val_mae: 50306.8906\n",
      "Epoch 53/100\n",
      "250/250 [==============================] - 5s 21ms/step - loss: 49442.8164 - mae: 49442.8164 - val_loss: 50306.5430 - val_mae: 50306.5430\n",
      "Epoch 54/100\n",
      "250/250 [==============================] - 4s 17ms/step - loss: 49435.1250 - mae: 49435.1250 - val_loss: 50302.9258 - val_mae: 50302.9258\n",
      "Epoch 55/100\n",
      "250/250 [==============================] - 5s 21ms/step - loss: 49429.9609 - mae: 49429.9609 - val_loss: 50309.4492 - val_mae: 50309.4492\n",
      "Epoch 56/100\n",
      "250/250 [==============================] - 4s 18ms/step - loss: 49423.9883 - mae: 49423.9883 - val_loss: 50311.7656 - val_mae: 50311.7656\n",
      "Epoch 57/100\n",
      "250/250 [==============================] - 4s 18ms/step - loss: 49418.8281 - mae: 49418.8281 - val_loss: 50322.5469 - val_mae: 50322.5469\n",
      "Epoch 58/100\n",
      "250/250 [==============================] - 4s 18ms/step - loss: 49416.1094 - mae: 49416.1094 - val_loss: 50324.0273 - val_mae: 50324.0273\n",
      "Epoch 59/100\n",
      "250/250 [==============================] - 5s 18ms/step - loss: 49409.8828 - mae: 49409.8828 - val_loss: 50327.4062 - val_mae: 50327.4062\n",
      "Epoch 60/100\n",
      "250/250 [==============================] - 5s 18ms/step - loss: 49402.5625 - mae: 49402.5625 - val_loss: 50325.1328 - val_mae: 50325.1328\n",
      "Epoch 61/100\n",
      "250/250 [==============================] - 4s 15ms/step - loss: 49397.5625 - mae: 49397.5625 - val_loss: 50325.2422 - val_mae: 50325.2422\n",
      "Epoch 62/100\n",
      "250/250 [==============================] - 5s 19ms/step - loss: 49397.1484 - mae: 49397.1484 - val_loss: 50335.3086 - val_mae: 50335.3086\n",
      "Epoch 63/100\n",
      "250/250 [==============================] - 5s 20ms/step - loss: 49389.1758 - mae: 49389.1758 - val_loss: 50332.8438 - val_mae: 50332.8438\n",
      "Epoch 64/100\n",
      "250/250 [==============================] - 4s 18ms/step - loss: 49384.7422 - mae: 49384.7422 - val_loss: 50322.7812 - val_mae: 50322.7812\n",
      "Epoch 65/100\n",
      "250/250 [==============================] - 4s 16ms/step - loss: 49380.6055 - mae: 49380.6055 - val_loss: 50323.8477 - val_mae: 50323.8477\n",
      "Epoch 66/100\n",
      "250/250 [==============================] - 6s 23ms/step - loss: 49375.3359 - mae: 49375.3359 - val_loss: 50327.3906 - val_mae: 50327.3906\n",
      "Epoch 67/100\n",
      "250/250 [==============================] - 5s 22ms/step - loss: 49372.6250 - mae: 49372.6250 - val_loss: 50326.4688 - val_mae: 50326.4688\n",
      "Epoch 68/100\n",
      "250/250 [==============================] - 4s 18ms/step - loss: 49366.8203 - mae: 49366.8203 - val_loss: 50326.7070 - val_mae: 50326.7070\n",
      "Epoch 69/100\n",
      "250/250 [==============================] - 4s 15ms/step - loss: 49361.6055 - mae: 49361.6055 - val_loss: 50340.9961 - val_mae: 50340.9961\n"
     ]
    }
   ],
   "source": [
    "## Train the model\n",
    "history=model.fit(\n",
    "    X_train, y_train,validation_data=(X_test,y_test), epochs=100,\n",
    "    callbacks=[tensorflow_callsback,early_stopping_callback]\n",
    ")"
   ]
  },
  {
   "cell_type": "code",
   "execution_count": 25,
   "metadata": {},
   "outputs": [],
   "source": [
    "%load_ext tensorboard"
   ]
  },
  {
   "cell_type": "code",
   "execution_count": 27,
   "metadata": {},
   "outputs": [
    {
     "data": {
      "text/plain": [
       "Reusing TensorBoard on port 6006 (pid 29632), started 0:00:27 ago. (Use '!kill 29632' to kill it.)"
      ]
     },
     "metadata": {},
     "output_type": "display_data"
    },
    {
     "data": {
      "text/html": [
       "\n",
       "      <iframe id=\"tensorboard-frame-1ca64991121e1582\" width=\"100%\" height=\"800\" frameborder=\"0\">\n",
       "      </iframe>\n",
       "      <script>\n",
       "        (function() {\n",
       "          const frame = document.getElementById(\"tensorboard-frame-1ca64991121e1582\");\n",
       "          const url = new URL(\"http://localhost\");\n",
       "          const port = 6006;\n",
       "          if (port) {\n",
       "            url.port = port;\n",
       "          }\n",
       "          frame.src = url;\n",
       "        })();\n",
       "      </script>\n",
       "    "
      ],
      "text/plain": [
       "<IPython.core.display.HTML object>"
      ]
     },
     "metadata": {},
     "output_type": "display_data"
    }
   ],
   "source": [
    "%tensorboard --logdir reg_logs/fit"
   ]
  },
  {
   "cell_type": "code",
   "execution_count": 29,
   "metadata": {},
   "outputs": [
    {
     "name": "stdout",
     "output_type": "stream",
     "text": [
      "63/63 [==============================] - 1s 6ms/step - loss: 50302.9258 - mae: 50302.9258\n",
      "TEST MAE :50302.92578125\n"
     ]
    }
   ],
   "source": [
    "# Evaluate model on Test data\n",
    "test_loss,test_mae=model.evaluate(X_test,y_test)\n",
    "print(f'TEST MAE :{test_mae}')"
   ]
  },
  {
   "cell_type": "code",
   "execution_count": 30,
   "metadata": {},
   "outputs": [
    {
     "name": "stderr",
     "output_type": "stream",
     "text": [
      "m:\\Learning_Workspace\\AI\\AI_Projects\\KrishNaikProjects\\ANN-DL-Algorithm\\venv\\Lib\\site-packages\\keras\\src\\engine\\training.py:3103: UserWarning: You are saving your model as an HDF5 file via `model.save()`. This file format is considered legacy. We recommend using instead the native Keras format, e.g. `model.save('my_model.keras')`.\n",
      "  saving_api.save_model(\n"
     ]
    }
   ],
   "source": [
    "model.save('reg_model.h5')"
   ]
  },
  {
   "cell_type": "code",
   "execution_count": null,
   "metadata": {},
   "outputs": [],
   "source": []
  }
 ],
 "metadata": {
  "kernelspec": {
   "display_name": "Python 3",
   "language": "python",
   "name": "python3"
  },
  "language_info": {
   "codemirror_mode": {
    "name": "ipython",
    "version": 3
   },
   "file_extension": ".py",
   "mimetype": "text/x-python",
   "name": "python",
   "nbconvert_exporter": "python",
   "pygments_lexer": "ipython3",
   "version": "3.11.0"
  }
 },
 "nbformat": 4,
 "nbformat_minor": 2
}
